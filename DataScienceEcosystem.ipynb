{
 "cells": [
  {
   "cell_type": "markdown",
   "id": "6bbc4e1e-8b3e-41ee-8d8e-214de1982c62",
   "metadata": {},
   "source": [
    "# Data Science Tools and Ecosystem\n"
   ]
  },
  {
   "cell_type": "markdown",
   "id": "cbfe16c2-83dc-4365-9f9f-9062383088ab",
   "metadata": {},
   "source": [
    "In this notebook, Data Science Tools and Ecosystem are summarized."
   ]
  },
  {
   "cell_type": "markdown",
   "id": "eb1e297b-4c0d-4dac-97a4-a68bc584dac5",
   "metadata": {},
   "source": [
    "**Objectives:**\n",
    "* Python\n",
    "* R\n",
    "* Java\n",
    "* Jupyter Notebook\n",
    "* RStudio\n",
    "* Apache Zeppelin"
   ]
  },
  {
   "cell_type": "markdown",
   "id": "230f006d-b2c0-46a8-b4bc-42bc540852c4",
   "metadata": {},
   "source": [
    "Some of the popular languages that Data Scientists use are:\n",
    "1. Python\n",
    "2. R\n",
    "3. Java"
   ]
  },
  {
   "cell_type": "markdown",
   "id": "5fe9c857-802c-4d0a-9998-4292a4eefe25",
   "metadata": {},
   "source": [
    "Some of the commonly used libraries used by Data Scientists include:\n",
    "1. Numpy\n",
    "2. seaborn\n",
    "3. Pandas"
   ]
  },
  {
   "cell_type": "markdown",
   "id": "2e3627f0-a6bc-47fd-af50-cfd2eecd6931",
   "metadata": {},
   "source": [
    "|Data Science Tools|\n",
    "|---------------------|\n",
    "| Jupyter Notebook   |\n",
    "| RStudio           |\n",
    "| Apache Zeppelin   |"
   ]
  },
  {
   "cell_type": "markdown",
   "id": "bfd2c37f-1300-4d8a-baeb-93d450e34b40",
   "metadata": {},
   "source": [
    "### Below are a few examples of evaluating arithmetic expressions in Python"
   ]
  },
  {
   "cell_type": "code",
   "execution_count": 1,
   "id": "fc038be7-1743-4491-990c-77e02eea5d6f",
   "metadata": {},
   "outputs": [
    {
     "data": {
      "text/plain": [
       "17"
      ]
     },
     "execution_count": 1,
     "metadata": {},
     "output_type": "execute_result"
    }
   ],
   "source": [
    "# this a simple arithmetic expression to mutiply 3 by 5 and adding 1 \n",
    "(3*4)+5\n"
   ]
  },
  {
   "cell_type": "code",
   "execution_count": 2,
   "id": "539a7413-0eb5-4f47-9458-63af9bbcf723",
   "metadata": {},
   "outputs": [
    {
     "data": {
      "text/plain": [
       "3.3333333333333335"
      ]
     },
     "execution_count": 2,
     "metadata": {},
     "output_type": "execute_result"
    }
   ],
   "source": [
    "#This will convert 200 minutes to hours by diving by 60.\n",
    "200/60"
   ]
  },
  {
   "cell_type": "markdown",
   "id": "11d3acff-949b-46bc-8395-956bc80782c4",
   "metadata": {},
   "source": [
    "## Author\n",
    "Benmellouk Issam"
   ]
  },
  {
   "cell_type": "code",
   "execution_count": null,
   "id": "1b5a72eb-68f7-47c8-b350-2140ed2ba587",
   "metadata": {},
   "outputs": [],
   "source": []
  }
 ],
 "metadata": {
  "kernelspec": {
   "display_name": "Python 3 (ipykernel)",
   "language": "python",
   "name": "python3"
  },
  "language_info": {
   "codemirror_mode": {
    "name": "ipython",
    "version": 3
   },
   "file_extension": ".py",
   "mimetype": "text/x-python",
   "name": "python",
   "nbconvert_exporter": "python",
   "pygments_lexer": "ipython3",
   "version": "3.12.9"
  }
 },
 "nbformat": 4,
 "nbformat_minor": 5
}
